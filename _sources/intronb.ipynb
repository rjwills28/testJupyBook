{
 "cells": [
  {
   "cell_type": "markdown",
   "id": "0ed30294",
   "metadata": {},
   "source": [
    "# Test Jupyter Notebook page\n",
    "\n",
    "Testing how to execute some simple Python code from ipynb file"
   ]
  },
  {
   "cell_type": "code",
   "execution_count": 1,
   "id": "8f6a5f63",
   "metadata": {},
   "outputs": [
    {
     "name": "stdout",
     "output_type": "stream",
     "text": [
      "Hello world!\n"
     ]
    }
   ],
   "source": [
    "print(\"Hello world!\")"
   ]
  }
 ],
 "metadata": {
  "jupytext": {
   "cell_metadata_filter": "-all",
   "formats": "md:myst",
   "text_representation": {
    "extension": ".md",
    "format_name": "myst",
    "format_version": 0.13,
    "jupytext_version": "1.11.5"
   }
  },
  "kernelspec": {
   "display_name": "Python 3",
   "language": "python",
   "name": "python3"
  },
  "language_info": {
   "codemirror_mode": {
    "name": "ipython",
    "version": 3
   },
   "file_extension": ".py",
   "mimetype": "text/x-python",
   "name": "python",
   "nbconvert_exporter": "python",
   "pygments_lexer": "ipython3",
   "version": "3.6.8"
  },
  "source_map": [
   14,
   20
  ]
 },
 "nbformat": 4,
 "nbformat_minor": 5
}