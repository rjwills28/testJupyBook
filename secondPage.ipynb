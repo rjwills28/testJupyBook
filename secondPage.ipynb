{
 "cells": [
  {
   "cell_type": "markdown",
   "id": "0ed30294",
   "metadata": {},
   "source": [
    "# Test Jupyter Notebook Second page\n",
    "\n",
    "Test some bash code"
   ]
  },
  {
   "cell_type": "code",
   "execution_count": 2,
   "id": "5dae561d",
   "metadata": {},
   "outputs": [
    {
     "name": "stdout",
     "output_type": "stream",
     "text": [
      "_build\n",
      "_config.yml\n",
      "intro.md\n",
      "intronb.ipynb\n",
      "README.md\n",
      "requirements.txt\n",
      "secondPage.ipynb\n",
      "_toc.yml\n"
     ]
    }
   ],
   "source": [
    "%%bash\n",
    "ls"
   ]
  }
 ],
 "metadata": {
  "jupytext": {
   "cell_metadata_filter": "-all",
   "formats": "md:myst",
   "text_representation": {
    "extension": ".md",
    "format_name": "myst",
    "format_version": 0.13,
    "jupytext_version": "1.11.5"
   }
  },
  "kernelspec": {
   "display_name": "Python 3",
   "language": "python",
   "name": "python3"
  },
  "language_info": {
   "codemirror_mode": {
    "name": "ipython",
    "version": 3
   },
   "file_extension": ".py",
   "mimetype": "text/x-python",
   "name": "python",
   "nbconvert_exporter": "python",
   "pygments_lexer": "ipython3",
   "version": "3.6.8"
  },
  "source_map": [
   14,
   20
  ]
 },
 "nbformat": 4,
 "nbformat_minor": 5
}